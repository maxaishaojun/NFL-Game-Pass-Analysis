{
 "cells": [
  {
   "cell_type": "markdown",
   "metadata": {
    "toc": true
   },
   "source": [
    "<h1>Table of Contents<span class=\"tocSkip\"></span></h1>\n",
    "<div class=\"toc\"><ul class=\"toc-item\"><li><span><a href=\"#特征工程\" data-toc-modified-id=\"特征工程-1\">特征工程</a></span><ul class=\"toc-item\"><li><span><a href=\"#1-数据预处理\" data-toc-modified-id=\"1-数据预处理-1.1\">1 数据预处理</a></span><ul class=\"toc-item\"><li><span><a href=\"#1.1-量纲的问题\" data-toc-modified-id=\"1.1-量纲的问题-1.1.1\">1.1 量纲的问题</a></span></li><li><span><a href=\"#1.2-特征值类型的问题\" data-toc-modified-id=\"1.2-特征值类型的问题-1.1.2\">1.2 特征值类型的问题</a></span></li></ul></li><li><span><a href=\"#2-特征选择\" data-toc-modified-id=\"2-特征选择-1.2\">2 特征选择</a></span><ul class=\"toc-item\"><li><span><a href=\"#2.1-发散性\" data-toc-modified-id=\"2.1-发散性-1.2.1\">2.1 发散性</a></span></li><li><span><a href=\"#2.2-关联性\" data-toc-modified-id=\"2.2-关联性-1.2.2\">2.2 关联性</a></span></li></ul></li><li><span><a href=\"#3-维度下降\" data-toc-modified-id=\"3-维度下降-1.3\">3 维度下降</a></span><ul class=\"toc-item\"><li><span><a href=\"#3.1-逻辑降维\" data-toc-modified-id=\"3.1-逻辑降维-1.3.1\">3.1 逻辑降维</a></span></li><li><span><a href=\"#3.2-算法试验\" data-toc-modified-id=\"3.2-算法试验-1.3.2\">3.2 算法试验</a></span></li></ul></li></ul></li></ul></div>"
   ]
  },
  {
   "cell_type": "code",
   "execution_count": 37,
   "metadata": {},
   "outputs": [],
   "source": [
    "import pandas as pd\n",
    "from pandas import DataFrame\n",
    "import numpy as np\n",
    "import matplotlib.pyplot as plt\n",
    "import seaborn as sns\n"
   ]
  },
  {
   "cell_type": "code",
   "execution_count": 38,
   "metadata": {},
   "outputs": [],
   "source": [
    "user_file_path = '/Users/apple/Downloads/nfl/nfl_data.csv'\n",
    "user_data = pd.read_csv(user_file_path)\n"
   ]
  },
  {
   "cell_type": "code",
   "execution_count": 39,
   "metadata": {},
   "outputs": [
    {
     "data": {
      "text/plain": [
       "count    21424.000000\n",
       "mean        54.929285\n",
       "std         73.334901\n",
       "min          0.000000\n",
       "25%          0.000000\n",
       "50%         13.000000\n",
       "75%         98.000000\n",
       "max        288.000000\n",
       "Name: revenue_usd, dtype: float64"
      ]
     },
     "execution_count": 39,
     "metadata": {},
     "output_type": "execute_result"
    }
   ],
   "source": [
    "# extract UK market\n",
    "\n",
    "uk_data = user_data.loc[user_data['market'] == 'UK']\n",
    "uk_data['revenue_usd'].describe()"
   ]
  },
  {
   "cell_type": "code",
   "execution_count": 40,
   "metadata": {},
   "outputs": [
    {
     "data": {
      "text/plain": [
       "Text(0, 0.5, 'Frequency')"
      ]
     },
     "execution_count": 40,
     "metadata": {},
     "output_type": "execute_result"
    },
    {
     "data": {
      "image/png": "[encoded data removed]",
      "text/plain": [
       "<Figure size 432x288 with 1 Axes>"
      ]
     },
     "metadata": {
      "needs_background": "light"
     },
     "output_type": "display_data"
    }
   ],
   "source": [
    "# 看消费的分布情况\n",
    "\n",
    "uk_data.revenue_usd.hist(bins=20, alpha=0.5)\n",
    "plt.title(\"Game Pass Europe Revenue Distribution\")\n",
    "plt.xlabel(\"Revenue($)\")\n",
    "plt.ylabel(\"Frequency\")"
   ]
  },
  {
   "cell_type": "code",
   "execution_count": 41,
   "metadata": {},
   "outputs": [
    {
     "data": {
      "text/html": [
       "<div>\n",
       "<style scoped>\n",
       "    .dataframe tbody tr th:only-of-type {\n",
       "        vertical-align: middle;\n",
       "    }\n",
       "\n",
       "    .dataframe tbody tr th {\n",
       "        vertical-align: top;\n",
       "    }\n",
       "\n",
       "    .dataframe thead th {\n",
       "        text-align: right;\n",
       "    }\n",
       "</style>\n",
       "<table border=\"1\" class=\"dataframe\">\n",
       "  <thead>\n",
       "    <tr style=\"text-align: right;\">\n",
       "      <th></th>\n",
       "      <th>transaction_id</th>\n",
       "      <th>segment</th>\n",
       "      <th>gender</th>\n",
       "      <th>age_group</th>\n",
       "      <th>tickets</th>\n",
       "      <th>shop</th>\n",
       "      <th>fantasy</th>\n",
       "      <th>new_to_database</th>\n",
       "      <th>email_opt_in</th>\n",
       "      <th>favourite_team</th>\n",
       "      <th>sku</th>\n",
       "      <th>buy_type</th>\n",
       "      <th>converted_free_trial</th>\n",
       "      <th>revenue_usd</th>\n",
       "    </tr>\n",
       "  </thead>\n",
       "  <tbody>\n",
       "    <tr>\n",
       "      <th>0</th>\n",
       "      <td>a-s00338989</td>\n",
       "      <td>Acq</td>\n",
       "      <td>U</td>\n",
       "      <td>26-30</td>\n",
       "      <td>0</td>\n",
       "      <td>0</td>\n",
       "      <td>1</td>\n",
       "      <td>0</td>\n",
       "      <td>1</td>\n",
       "      <td>1</td>\n",
       "      <td>Pro</td>\n",
       "      <td>1</td>\n",
       "      <td>0</td>\n",
       "      <td>179</td>\n",
       "    </tr>\n",
       "    <tr>\n",
       "      <th>1</th>\n",
       "      <td>a-s00339056</td>\n",
       "      <td>Acq</td>\n",
       "      <td>M</td>\n",
       "      <td>31-35</td>\n",
       "      <td>0</td>\n",
       "      <td>0</td>\n",
       "      <td>1</td>\n",
       "      <td>0</td>\n",
       "      <td>0</td>\n",
       "      <td>1</td>\n",
       "      <td>Pro</td>\n",
       "      <td>0</td>\n",
       "      <td>0</td>\n",
       "      <td>0</td>\n",
       "    </tr>\n",
       "    <tr>\n",
       "      <th>2</th>\n",
       "      <td>a-s00339109</td>\n",
       "      <td>Acq</td>\n",
       "      <td>M</td>\n",
       "      <td>22-25</td>\n",
       "      <td>0</td>\n",
       "      <td>0</td>\n",
       "      <td>1</td>\n",
       "      <td>0</td>\n",
       "      <td>0</td>\n",
       "      <td>1</td>\n",
       "      <td>Essential</td>\n",
       "      <td>1</td>\n",
       "      <td>0</td>\n",
       "      <td>52</td>\n",
       "    </tr>\n",
       "    <tr>\n",
       "      <th>3</th>\n",
       "      <td>a-s00339192</td>\n",
       "      <td>Ret</td>\n",
       "      <td>U</td>\n",
       "      <td>22-25</td>\n",
       "      <td>0</td>\n",
       "      <td>0</td>\n",
       "      <td>1</td>\n",
       "      <td>0</td>\n",
       "      <td>1</td>\n",
       "      <td>1</td>\n",
       "      <td>Pro</td>\n",
       "      <td>1</td>\n",
       "      <td>0</td>\n",
       "      <td>179</td>\n",
       "    </tr>\n",
       "    <tr>\n",
       "      <th>6</th>\n",
       "      <td>a-s00339311</td>\n",
       "      <td>Acq</td>\n",
       "      <td>M</td>\n",
       "      <td>51-60</td>\n",
       "      <td>0</td>\n",
       "      <td>1</td>\n",
       "      <td>1</td>\n",
       "      <td>1</td>\n",
       "      <td>1</td>\n",
       "      <td>1</td>\n",
       "      <td>Pro</td>\n",
       "      <td>1</td>\n",
       "      <td>0</td>\n",
       "      <td>181</td>\n",
       "    </tr>\n",
       "  </tbody>\n",
       "</table>\n",
       "</div>"
      ],
      "text/plain": [
       "  transaction_id segment gender age_group  tickets  shop  fantasy  \\\n",
       "0    a-s00338989     Acq      U     26-30        0     0        1   \n",
       "1    a-s00339056     Acq      M     31-35        0     0        1   \n",
       "2    a-s00339109     Acq      M     22-25        0     0        1   \n",
       "3    a-s00339192     Ret      U     22-25        0     0        1   \n",
       "6    a-s00339311     Acq      M     51-60        0     1        1   \n",
       "\n",
       "   new_to_database  email_opt_in  favourite_team        sku  buy_type  \\\n",
       "0                0             1               1        Pro         1   \n",
       "1                0             0               1        Pro         0   \n",
       "2                0             0               1  Essential         1   \n",
       "3                0             1               1        Pro         1   \n",
       "6                1             1               1        Pro         1   \n",
       "\n",
       "   converted_free_trial  revenue_usd  \n",
       "0                     0          179  \n",
       "1                     0            0  \n",
       "2                     0           52  \n",
       "3                     0          179  \n",
       "6                     0          181  "
      ]
     },
     "execution_count": 41,
     "metadata": {},
     "output_type": "execute_result"
    }
   ],
   "source": [
    "# user_data.customer_id = user_data.customer_id.astype(str)\n",
    "uk_data = uk_data.drop(['Unnamed: 0', 'date', 'customer_id', 'audience', 'market', 'nflweek', 'platform'], axis=1)\n",
    "uk_data.head()\n"
   ]
  },
  {
   "cell_type": "code",
   "execution_count": 42,
   "metadata": {},
   "outputs": [
    {
     "data": {
      "text/html": [
       "<div>\n",
       "<style scoped>\n",
       "    .dataframe tbody tr th:only-of-type {\n",
       "        vertical-align: middle;\n",
       "    }\n",
       "\n",
       "    .dataframe tbody tr th {\n",
       "        vertical-align: top;\n",
       "    }\n",
       "\n",
       "    .dataframe thead th {\n",
       "        text-align: right;\n",
       "    }\n",
       "</style>\n",
       "<table border=\"1\" class=\"dataframe\">\n",
       "  <thead>\n",
       "    <tr style=\"text-align: right;\">\n",
       "      <th></th>\n",
       "      <th>tickets</th>\n",
       "      <th>shop</th>\n",
       "      <th>fantasy</th>\n",
       "      <th>new_to_database</th>\n",
       "      <th>email_opt_in</th>\n",
       "      <th>favourite_team</th>\n",
       "      <th>buy_type</th>\n",
       "      <th>converted_free_trial</th>\n",
       "      <th>revenue_usd</th>\n",
       "    </tr>\n",
       "  </thead>\n",
       "  <tbody>\n",
       "    <tr>\n",
       "      <th>count</th>\n",
       "      <td>21424.000000</td>\n",
       "      <td>21424.000000</td>\n",
       "      <td>21424.000000</td>\n",
       "      <td>21424.000000</td>\n",
       "      <td>21424.000000</td>\n",
       "      <td>21424.000000</td>\n",
       "      <td>21424.000000</td>\n",
       "      <td>21424.000000</td>\n",
       "      <td>21424.000000</td>\n",
       "    </tr>\n",
       "    <tr>\n",
       "      <th>mean</th>\n",
       "      <td>0.090273</td>\n",
       "      <td>0.159821</td>\n",
       "      <td>0.275719</td>\n",
       "      <td>0.443895</td>\n",
       "      <td>0.270258</td>\n",
       "      <td>0.579864</td>\n",
       "      <td>0.699496</td>\n",
       "      <td>0.117905</td>\n",
       "      <td>54.929285</td>\n",
       "    </tr>\n",
       "    <tr>\n",
       "      <th>std</th>\n",
       "      <td>0.286579</td>\n",
       "      <td>0.366448</td>\n",
       "      <td>0.446886</td>\n",
       "      <td>0.496854</td>\n",
       "      <td>0.444103</td>\n",
       "      <td>0.493592</td>\n",
       "      <td>0.458488</td>\n",
       "      <td>0.322503</td>\n",
       "      <td>73.334901</td>\n",
       "    </tr>\n",
       "    <tr>\n",
       "      <th>min</th>\n",
       "      <td>0.000000</td>\n",
       "      <td>0.000000</td>\n",
       "      <td>0.000000</td>\n",
       "      <td>0.000000</td>\n",
       "      <td>0.000000</td>\n",
       "      <td>0.000000</td>\n",
       "      <td>0.000000</td>\n",
       "      <td>0.000000</td>\n",
       "      <td>0.000000</td>\n",
       "    </tr>\n",
       "    <tr>\n",
       "      <th>25%</th>\n",
       "      <td>0.000000</td>\n",
       "      <td>0.000000</td>\n",
       "      <td>0.000000</td>\n",
       "      <td>0.000000</td>\n",
       "      <td>0.000000</td>\n",
       "      <td>0.000000</td>\n",
       "      <td>0.000000</td>\n",
       "      <td>0.000000</td>\n",
       "      <td>0.000000</td>\n",
       "    </tr>\n",
       "    <tr>\n",
       "      <th>50%</th>\n",
       "      <td>0.000000</td>\n",
       "      <td>0.000000</td>\n",
       "      <td>0.000000</td>\n",
       "      <td>0.000000</td>\n",
       "      <td>0.000000</td>\n",
       "      <td>1.000000</td>\n",
       "      <td>1.000000</td>\n",
       "      <td>0.000000</td>\n",
       "      <td>13.000000</td>\n",
       "    </tr>\n",
       "    <tr>\n",
       "      <th>75%</th>\n",
       "      <td>0.000000</td>\n",
       "      <td>0.000000</td>\n",
       "      <td>1.000000</td>\n",
       "      <td>1.000000</td>\n",
       "      <td>1.000000</td>\n",
       "      <td>1.000000</td>\n",
       "      <td>1.000000</td>\n",
       "      <td>0.000000</td>\n",
       "      <td>98.000000</td>\n",
       "    </tr>\n",
       "    <tr>\n",
       "      <th>max</th>\n",
       "      <td>1.000000</td>\n",
       "      <td>1.000000</td>\n",
       "      <td>1.000000</td>\n",
       "      <td>1.000000</td>\n",
       "      <td>1.000000</td>\n",
       "      <td>1.000000</td>\n",
       "      <td>1.000000</td>\n",
       "      <td>1.000000</td>\n",
       "      <td>288.000000</td>\n",
       "    </tr>\n",
       "  </tbody>\n",
       "</table>\n",
       "</div>"
      ],
      "text/plain": [
       "            tickets          shop       fantasy  new_to_database  \\\n",
       "count  21424.000000  21424.000000  21424.000000     21424.000000   \n",
       "mean       0.090273      0.159821      0.275719         0.443895   \n",
       "std        0.286579      0.366448      0.446886         0.496854   \n",
       "min        0.000000      0.000000      0.000000         0.000000   \n",
       "25%        0.000000      0.000000      0.000000         0.000000   \n",
       "50%        0.000000      0.000000      0.000000         0.000000   \n",
       "75%        0.000000      0.000000      1.000000         1.000000   \n",
       "max        1.000000      1.000000      1.000000         1.000000   \n",
       "\n",
       "       email_opt_in  favourite_team      buy_type  converted_free_trial  \\\n",
       "count  21424.000000    21424.000000  21424.000000          21424.000000   \n",
       "mean       0.270258        0.579864      0.699496              0.117905   \n",
       "std        0.444103        0.493592      0.458488              0.322503   \n",
       "min        0.000000        0.000000      0.000000              0.000000   \n",
       "25%        0.000000        0.000000      0.000000              0.000000   \n",
       "50%        0.000000        1.000000      1.000000              0.000000   \n",
       "75%        1.000000        1.000000      1.000000              0.000000   \n",
       "max        1.000000        1.000000      1.000000              1.000000   \n",
       "\n",
       "        revenue_usd  \n",
       "count  21424.000000  \n",
       "mean      54.929285  \n",
       "std       73.334901  \n",
       "min        0.000000  \n",
       "25%        0.000000  \n",
       "50%       13.000000  \n",
       "75%       98.000000  \n",
       "max      288.000000  "
      ]
     },
     "execution_count": 42,
     "metadata": {},
     "output_type": "execute_result"
    }
   ],
   "source": [
    "uk_data.describe()"
   ]
  },
  {
   "cell_type": "markdown",
   "metadata": {},
   "source": [
    "## 特征工程\n",
    "\n",
    "https://www.jianshu.com/p/18c5105f6650\n",
    "\n",
    "https://www.jianshu.com/p/ad71fcda7d09\n",
    "\n",
    "https://www.jianshu.com/p/e56dabcc2cc3"
   ]
  },
  {
   "cell_type": "markdown",
   "metadata": {},
   "source": [
    "### 1 数据预处理"
   ]
  },
  {
   "cell_type": "markdown",
   "metadata": {},
   "source": [
    "#### 1.1 量纲的问题"
   ]
  },
  {
   "cell_type": "code",
   "execution_count": 43,
   "metadata": {},
   "outputs": [],
   "source": [
    "# 这里的data都是 yes/no 或者是category的数据，除了revenue_usd之外，没有continuous data\n",
    "# 规范化处理(norm)对数据异常值很敏感，处理之后数据中的异常值会消失，因此如果数据集中存在异常值，则这是一种不好的做法。 \n",
    "# 而标准化不受数据限制，所以一般我们采用标准化来处理数据。\n",
    "\n",
    "def normalize(data, column):\n",
    "    for col in column:\n",
    "        data['normalize_'+col] = (data[col] - np.min(data[col])) / (np.max(data[col]) - np.min(data[col]))\n",
    "    \n",
    "    return data\n",
    "\n",
    "def standardize(data, column):\n",
    "    for col in column:\n",
    "        data['standardize_'+col] = (data[col] - np.mean(data[col])) / (np.std(data[col]))\n",
    "    \n",
    "    return data\n",
    "\n",
    "columns = ['revenue_usd']\n",
    "uk_data = standardize(uk_data, columns)\n",
    "\n",
    "# 再介绍几种激活函数，其本意都是把数值压缩在某个区间，其中有的区间敏感，有的不敏感\n",
    "\n",
    "def tanh(data, column):  \n",
    "    for col in column:\n",
    "        data['tanh_'+col] = np.tanh(data[col])\n",
    "    \n",
    "    return data  \n",
    "\n",
    "def sigmoid(data, column):\n",
    "    for col in column:\n",
    "        data['sigmoid_'+col] = 1.0 / (1.0 + (np.exp(data[col])*(-1)))\n",
    "        \n",
    "    return data\n",
    "\n",
    "\n",
    "def leakyrelu(data, column, a=1): \n",
    "    for col in column:\n",
    "        data['leakyrelu_'+col] = np.array([x if x > 0 else a * x for x in data[col]])\n",
    "    \n",
    "    return data\n",
    "\n",
    "def softplus(data, column):\n",
    "    for col in column:\n",
    "        data['softplus_'+col] = np.log(np.exp(data[col]) + 1)\n",
    "    \n",
    "    return data\n"
   ]
  },
  {
   "cell_type": "code",
   "execution_count": 44,
   "metadata": {},
   "outputs": [
    {
     "data": {
      "text/plain": [
       "Text(0, 0.5, 'Frequency')"
      ]
     },
     "execution_count": 44,
     "metadata": {},
     "output_type": "execute_result"
    },
    {
     "data": {
      "image/png": "[encoded data removed]",
      "text/plain": [
       "<Figure size 432x288 with 1 Axes>"
      ]
     },
     "metadata": {
      "needs_background": "light"
     },
     "output_type": "display_data"
    }
   ],
   "source": [
    "uk_data.standardize_revenue_usd.hist(bins=20, alpha=0.5)\n",
    "plt.title(\"Game Pass Europe Revenue Distribution\")\n",
    "plt.xlabel(\"Revenue($)\")\n",
    "plt.ylabel(\"Frequency\")"
   ]
  },
  {
   "cell_type": "code",
   "execution_count": 45,
   "metadata": {},
   "outputs": [
    {
     "data": {
      "text/html": [
       "<div>\n",
       "<style scoped>\n",
       "    .dataframe tbody tr th:only-of-type {\n",
       "        vertical-align: middle;\n",
       "    }\n",
       "\n",
       "    .dataframe tbody tr th {\n",
       "        vertical-align: top;\n",
       "    }\n",
       "\n",
       "    .dataframe thead th {\n",
       "        text-align: right;\n",
       "    }\n",
       "</style>\n",
       "<table border=\"1\" class=\"dataframe\">\n",
       "  <thead>\n",
       "    <tr style=\"text-align: right;\">\n",
       "      <th></th>\n",
       "      <th>transaction_id</th>\n",
       "      <th>segment</th>\n",
       "      <th>gender</th>\n",
       "      <th>age_group</th>\n",
       "      <th>tickets</th>\n",
       "      <th>shop</th>\n",
       "      <th>fantasy</th>\n",
       "      <th>new_to_database</th>\n",
       "      <th>email_opt_in</th>\n",
       "      <th>favourite_team</th>\n",
       "      <th>sku</th>\n",
       "      <th>buy_type</th>\n",
       "      <th>converted_free_trial</th>\n",
       "      <th>revenue_usd</th>\n",
       "      <th>standardize_revenue_usd</th>\n",
       "    </tr>\n",
       "  </thead>\n",
       "  <tbody>\n",
       "    <tr>\n",
       "      <th>0</th>\n",
       "      <td>a-s00338989</td>\n",
       "      <td>Acq</td>\n",
       "      <td>U</td>\n",
       "      <td>26-30</td>\n",
       "      <td>0</td>\n",
       "      <td>0</td>\n",
       "      <td>1</td>\n",
       "      <td>0</td>\n",
       "      <td>1</td>\n",
       "      <td>1</td>\n",
       "      <td>Pro</td>\n",
       "      <td>1</td>\n",
       "      <td>0</td>\n",
       "      <td>179</td>\n",
       "      <td>1.691877</td>\n",
       "    </tr>\n",
       "    <tr>\n",
       "      <th>1</th>\n",
       "      <td>a-s00339056</td>\n",
       "      <td>Acq</td>\n",
       "      <td>M</td>\n",
       "      <td>31-35</td>\n",
       "      <td>0</td>\n",
       "      <td>0</td>\n",
       "      <td>1</td>\n",
       "      <td>0</td>\n",
       "      <td>0</td>\n",
       "      <td>1</td>\n",
       "      <td>Pro</td>\n",
       "      <td>0</td>\n",
       "      <td>0</td>\n",
       "      <td>0</td>\n",
       "      <td>-0.749037</td>\n",
       "    </tr>\n",
       "    <tr>\n",
       "      <th>2</th>\n",
       "      <td>a-s00339109</td>\n",
       "      <td>Acq</td>\n",
       "      <td>M</td>\n",
       "      <td>22-25</td>\n",
       "      <td>0</td>\n",
       "      <td>0</td>\n",
       "      <td>1</td>\n",
       "      <td>0</td>\n",
       "      <td>0</td>\n",
       "      <td>1</td>\n",
       "      <td>Essential</td>\n",
       "      <td>1</td>\n",
       "      <td>0</td>\n",
       "      <td>52</td>\n",
       "      <td>-0.039945</td>\n",
       "    </tr>\n",
       "    <tr>\n",
       "      <th>3</th>\n",
       "      <td>a-s00339192</td>\n",
       "      <td>Ret</td>\n",
       "      <td>U</td>\n",
       "      <td>22-25</td>\n",
       "      <td>0</td>\n",
       "      <td>0</td>\n",
       "      <td>1</td>\n",
       "      <td>0</td>\n",
       "      <td>1</td>\n",
       "      <td>1</td>\n",
       "      <td>Pro</td>\n",
       "      <td>1</td>\n",
       "      <td>0</td>\n",
       "      <td>179</td>\n",
       "      <td>1.691877</td>\n",
       "    </tr>\n",
       "    <tr>\n",
       "      <th>6</th>\n",
       "      <td>a-s00339311</td>\n",
       "      <td>Acq</td>\n",
       "      <td>M</td>\n",
       "      <td>51-60</td>\n",
       "      <td>0</td>\n",
       "      <td>1</td>\n",
       "      <td>1</td>\n",
       "      <td>1</td>\n",
       "      <td>1</td>\n",
       "      <td>1</td>\n",
       "      <td>Pro</td>\n",
       "      <td>1</td>\n",
       "      <td>0</td>\n",
       "      <td>181</td>\n",
       "      <td>1.719149</td>\n",
       "    </tr>\n",
       "  </tbody>\n",
       "</table>\n",
       "</div>"
      ],
      "text/plain": [
       "  transaction_id segment gender age_group  tickets  shop  fantasy  \\\n",
       "0    a-s00338989     Acq      U     26-30        0     0        1   \n",
       "1    a-s00339056     Acq      M     31-35        0     0        1   \n",
       "2    a-s00339109     Acq      M     22-25        0     0        1   \n",
       "3    a-s00339192     Ret      U     22-25        0     0        1   \n",
       "6    a-s00339311     Acq      M     51-60        0     1        1   \n",
       "\n",
       "   new_to_database  email_opt_in  favourite_team        sku  buy_type  \\\n",
       "0                0             1               1        Pro         1   \n",
       "1                0             0               1        Pro         0   \n",
       "2                0             0               1  Essential         1   \n",
       "3                0             1               1        Pro         1   \n",
       "6                1             1               1        Pro         1   \n",
       "\n",
       "   converted_free_trial  revenue_usd  standardize_revenue_usd  \n",
       "0                     0          179                 1.691877  \n",
       "1                     0            0                -0.749037  \n",
       "2                     0           52                -0.039945  \n",
       "3                     0          179                 1.691877  \n",
       "6                     0          181                 1.719149  "
      ]
     },
     "execution_count": 45,
     "metadata": {},
     "output_type": "execute_result"
    }
   ],
   "source": [
    "uk_data.head()"
   ]
  },
  {
   "cell_type": "code",
   "execution_count": 46,
   "metadata": {},
   "outputs": [
    {
     "data": {
      "text/plain": [
       "Index(['transaction_id', 'segment', 'gender', 'age_group', 'tickets', 'shop',\n",
       "       'fantasy', 'new_to_database', 'email_opt_in', 'favourite_team', 'sku',\n",
       "       'buy_type', 'converted_free_trial', 'revenue_usd',\n",
       "       'standardize_revenue_usd'],\n",
       "      dtype='object')"
      ]
     },
     "execution_count": 46,
     "metadata": {},
     "output_type": "execute_result"
    }
   ],
   "source": [
    "uk_data.columns"
   ]
  },
  {
   "cell_type": "markdown",
   "metadata": {},
   "source": [
    "#### 1.2 特征值类型的问题"
   ]
  },
  {
   "cell_type": "code",
   "execution_count": 47,
   "metadata": {},
   "outputs": [],
   "source": [
    "# category编码 - dummy coding\n",
    "# 这种虚拟变量的做法容易增加数据特征的维度\n",
    "\n",
    "dummy_data = pd.get_dummies(\n",
    "        uk_data,columns=['segment', 'gender', 'age_group', 'sku'],\n",
    "                prefix=['segment', 'gender', 'age_group', 'sku'],prefix_sep=\"_\"\n",
    "            )\n",
    "\n",
    "# uk_data = uk_data.drop(['gender_U'], axis=1)"
   ]
  },
  {
   "cell_type": "code",
   "execution_count": 48,
   "metadata": {},
   "outputs": [
    {
     "data": {
      "text/plain": [
       "<matplotlib.axes._subplots.AxesSubplot at 0x1a1ddfccf8>"
      ]
     },
     "execution_count": 48,
     "metadata": {},
     "output_type": "execute_result"
    },
    {
     "data": {
      "image/png": "[encoded data removed]",
      "text/plain": [
       "<Figure size 432x288 with 1 Axes>"
      ]
     },
     "metadata": {
      "needs_background": "light"
     },
     "output_type": "display_data"
    }
   ],
   "source": [
    "# 连续值转为category\n",
    "\n",
    "conditions = [\n",
    "        (uk_data['revenue_usd'] == 0),\n",
    "        (uk_data['revenue_usd'] <= 13),\n",
    "        (uk_data['revenue_usd'] <= 98)\n",
    "        ]\n",
    "choices = [0,1,2]\n",
    "dummy_data['revenue_category'] = np.select(conditions, choices, default= 3)\n",
    "uk_data['revenue_category'] = np.select(conditions, choices, default= 3)\n",
    "\n",
    "fig, ax = plt.subplots()\n",
    "dummy_data['revenue_category'].value_counts().plot(ax=ax, kind='bar')\n",
    "\n"
   ]
  },
  {
   "cell_type": "markdown",
   "metadata": {},
   "source": [
    "### 2 特征选择"
   ]
  },
  {
   "cell_type": "code",
   "execution_count": 49,
   "metadata": {},
   "outputs": [
    {
     "data": {
      "text/plain": [
       "Index(['transaction_id', 'tickets', 'shop', 'fantasy', 'new_to_database',\n",
       "       'email_opt_in', 'favourite_team', 'buy_type', 'converted_free_trial',\n",
       "       'revenue_usd', 'standardize_revenue_usd', 'segment_Acq', 'segment_Ret',\n",
       "       'segment_iOS', 'gender_F', 'gender_M', 'gender_U', 'age_group_18-21',\n",
       "       'age_group_22-25', 'age_group_26-30', 'age_group_31-35',\n",
       "       'age_group_36-40', 'age_group_41-50', 'age_group_51-60',\n",
       "       'age_group_60+', 'age_group_Under 18', 'age_group_Unknown',\n",
       "       'sku_Essential', 'sku_Free', 'sku_Playoffs', 'sku_Pro',\n",
       "       'sku_Super Bowl', 'sku_Weekly', 'revenue_category'],\n",
       "      dtype='object')"
      ]
     },
     "execution_count": 49,
     "metadata": {},
     "output_type": "execute_result"
    }
   ],
   "source": [
    "dummy_data.columns"
   ]
  },
  {
   "cell_type": "code",
   "execution_count": 50,
   "metadata": {},
   "outputs": [],
   "source": [
    "# 原则-发散性&关联性\n",
    "\n",
    "select_feature = ['tickets', 'shop', 'fantasy', 'new_to_database', 'email_opt_in',\n",
    "                   'favourite_team', 'buy_type', 'converted_free_trial', 'segment_Acq',\n",
    "                   'segment_Ret', 'segment_iOS', 'gender_F', 'gender_M', 'gender_U',\n",
    "                   'age_group_18-21', 'age_group_22-25', 'age_group_26-30',\n",
    "                   'age_group_31-35', 'age_group_36-40', 'age_group_41-50',\n",
    "                   'age_group_51-60', 'age_group_60+', 'age_group_Under 18',\n",
    "                   'age_group_Unknown', 'sku_Essential', 'sku_Free', 'sku_Playoffs',\n",
    "                   'sku_Pro', 'sku_Super Bowl', 'sku_Weekly']"
   ]
  },
  {
   "cell_type": "markdown",
   "metadata": {},
   "source": [
    "#### 2.1 发散性"
   ]
  },
  {
   "cell_type": "code",
   "execution_count": 51,
   "metadata": {},
   "outputs": [],
   "source": [
    "# 方差选择法\n",
    "\n",
    "from sklearn.feature_selection import VarianceThreshold\n",
    "\n",
    "varianceThreshold = VarianceThreshold(threshold = 0.2)\n",
    "varianceThreshold.fit_transform(dummy_data[select_feature])\n",
    "var_result = varianceThreshold.get_support()\n"
   ]
  },
  {
   "cell_type": "markdown",
   "metadata": {},
   "source": [
    "#### 2.2 关联性"
   ]
  },
  {
   "cell_type": "code",
   "execution_count": 52,
   "metadata": {},
   "outputs": [
    {
     "name": "stderr",
     "output_type": "stream",
     "text": [
      "/anaconda3/lib/python3.7/site-packages/sklearn/utils/validation.py:761: DataConversionWarning: A column-vector y was passed when a 1d array was expected. Please change the shape of y to (n_samples, ), for example using ravel().\n",
      "  y = column_or_1d(y, warn=True)\n"
     ]
    }
   ],
   "source": [
    "# 相关系数法\n",
    "# 选择基本的feature，然后匹配其他\n",
    "# 注意逻辑关系\n",
    "\n",
    "from sklearn.feature_selection import SelectKBest\n",
    "from sklearn.feature_selection import f_regression\n",
    "selectKBest = SelectKBest(f_regression, k=10)\n",
    "feature = dummy_data[select_feature]\n",
    "bestFeature = selectKBest.fit_transform(feature, dummy_data[['revenue_usd']])\n",
    "feature_result = selectKBest.get_support()\n"
   ]
  },
  {
   "cell_type": "code",
   "execution_count": 53,
   "metadata": {},
   "outputs": [
    {
     "name": "stdout",
     "output_type": "stream",
     "text": [
      "[('new_to_database', True), ('favourite_team', True), ('buy_type', True), ('gender_M', True)]\n",
      "[('tickets', True), ('shop', True), ('fantasy', True), ('favourite_team', True), ('converted_free_trial', True), ('segment_Acq', True), ('segment_Ret', True), ('sku_Free', True), ('sku_Pro', True)]\n"
     ]
    }
   ],
   "source": [
    "def feature_results(list_feature, list_result):\n",
    "    \n",
    "    dic = {}\n",
    "    \n",
    "    for i in range(len(list_feature)):\n",
    "        feature = list_feature[i]\n",
    "        result = list_result[i]\n",
    "        dic[feature] = result\n",
    "        result_tuple = sorted(dic.items(), key=lambda kv: kv[1])\n",
    "    return result_tuple\n",
    "\n",
    "var_results = feature_results(select_feature, var_result)\n",
    "weights_results = feature_results(select_feature, feature_result)\n",
    "\n",
    "print(var_results[-5:-1])\n",
    "print(weights_results[-10:-1])"
   ]
  },
  {
   "cell_type": "markdown",
   "metadata": {},
   "source": [
    "### 3 维度下降"
   ]
  },
  {
   "cell_type": "markdown",
   "metadata": {},
   "source": [
    "#### 3.1 逻辑降维"
   ]
  },
  {
   "cell_type": "code",
   "execution_count": 54,
   "metadata": {},
   "outputs": [
    {
     "data": {
      "text/html": [
       "<div>\n",
       "<style scoped>\n",
       "    .dataframe tbody tr th:only-of-type {\n",
       "        vertical-align: middle;\n",
       "    }\n",
       "\n",
       "    .dataframe tbody tr th {\n",
       "        vertical-align: top;\n",
       "    }\n",
       "\n",
       "    .dataframe thead th {\n",
       "        text-align: right;\n",
       "    }\n",
       "</style>\n",
       "<table border=\"1\" class=\"dataframe\">\n",
       "  <thead>\n",
       "    <tr style=\"text-align: right;\">\n",
       "      <th></th>\n",
       "      <th>transaction_id</th>\n",
       "      <th>age</th>\n",
       "      <th>gender</th>\n",
       "      <th>favourite_team</th>\n",
       "      <th>user_behaviour</th>\n",
       "      <th>segment</th>\n",
       "      <th>revenue_usd</th>\n",
       "      <th>sku_category</th>\n",
       "      <th>revenue_category</th>\n",
       "    </tr>\n",
       "  </thead>\n",
       "  <tbody>\n",
       "    <tr>\n",
       "      <th>0</th>\n",
       "      <td>a-s00338989</td>\n",
       "      <td>adult</td>\n",
       "      <td>U</td>\n",
       "      <td>1</td>\n",
       "      <td>2</td>\n",
       "      <td>Acq</td>\n",
       "      <td>179</td>\n",
       "      <td>Pro-BuyNow</td>\n",
       "      <td>3</td>\n",
       "    </tr>\n",
       "    <tr>\n",
       "      <th>1</th>\n",
       "      <td>a-s00339056</td>\n",
       "      <td>adult</td>\n",
       "      <td>M</td>\n",
       "      <td>1</td>\n",
       "      <td>1</td>\n",
       "      <td>Acq</td>\n",
       "      <td>0</td>\n",
       "      <td>Pro-FreeTrial-NoConvert</td>\n",
       "      <td>0</td>\n",
       "    </tr>\n",
       "    <tr>\n",
       "      <th>2</th>\n",
       "      <td>a-s00339109</td>\n",
       "      <td>adult</td>\n",
       "      <td>M</td>\n",
       "      <td>1</td>\n",
       "      <td>1</td>\n",
       "      <td>Acq</td>\n",
       "      <td>52</td>\n",
       "      <td>Essential</td>\n",
       "      <td>2</td>\n",
       "    </tr>\n",
       "    <tr>\n",
       "      <th>3</th>\n",
       "      <td>a-s00339192</td>\n",
       "      <td>adult</td>\n",
       "      <td>U</td>\n",
       "      <td>1</td>\n",
       "      <td>2</td>\n",
       "      <td>Ret</td>\n",
       "      <td>179</td>\n",
       "      <td>Pro-BuyNow</td>\n",
       "      <td>3</td>\n",
       "    </tr>\n",
       "    <tr>\n",
       "      <th>6</th>\n",
       "      <td>a-s00339311</td>\n",
       "      <td>old</td>\n",
       "      <td>M</td>\n",
       "      <td>1</td>\n",
       "      <td>4</td>\n",
       "      <td>Acq</td>\n",
       "      <td>181</td>\n",
       "      <td>Pro-BuyNow</td>\n",
       "      <td>3</td>\n",
       "    </tr>\n",
       "    <tr>\n",
       "      <th>9</th>\n",
       "      <td>a-s00339504</td>\n",
       "      <td>adult</td>\n",
       "      <td>M</td>\n",
       "      <td>1</td>\n",
       "      <td>1</td>\n",
       "      <td>Acq</td>\n",
       "      <td>0</td>\n",
       "      <td>Pro-FreeTrial-NoConvert</td>\n",
       "      <td>0</td>\n",
       "    </tr>\n",
       "    <tr>\n",
       "      <th>15</th>\n",
       "      <td>a-s00339778</td>\n",
       "      <td>adult</td>\n",
       "      <td>M</td>\n",
       "      <td>1</td>\n",
       "      <td>3</td>\n",
       "      <td>Ret</td>\n",
       "      <td>179</td>\n",
       "      <td>Pro-BuyNow</td>\n",
       "      <td>3</td>\n",
       "    </tr>\n",
       "    <tr>\n",
       "      <th>16</th>\n",
       "      <td>a-s00338991</td>\n",
       "      <td>old</td>\n",
       "      <td>U</td>\n",
       "      <td>0</td>\n",
       "      <td>1</td>\n",
       "      <td>Acq</td>\n",
       "      <td>179</td>\n",
       "      <td>Pro-BuyNow</td>\n",
       "      <td>3</td>\n",
       "    </tr>\n",
       "    <tr>\n",
       "      <th>17</th>\n",
       "      <td>a-s00339062</td>\n",
       "      <td>adult</td>\n",
       "      <td>U</td>\n",
       "      <td>1</td>\n",
       "      <td>2</td>\n",
       "      <td>Acq</td>\n",
       "      <td>178</td>\n",
       "      <td>Pro-FreeTrial-Convert</td>\n",
       "      <td>3</td>\n",
       "    </tr>\n",
       "    <tr>\n",
       "      <th>18</th>\n",
       "      <td>a-s00339114</td>\n",
       "      <td>adult</td>\n",
       "      <td>M</td>\n",
       "      <td>1</td>\n",
       "      <td>2</td>\n",
       "      <td>Acq</td>\n",
       "      <td>179</td>\n",
       "      <td>Pro-BuyNow</td>\n",
       "      <td>3</td>\n",
       "    </tr>\n",
       "  </tbody>\n",
       "</table>\n",
       "</div>"
      ],
      "text/plain": [
       "   transaction_id    age gender  favourite_team  user_behaviour segment  \\\n",
       "0     a-s00338989  adult      U               1               2     Acq   \n",
       "1     a-s00339056  adult      M               1               1     Acq   \n",
       "2     a-s00339109  adult      M               1               1     Acq   \n",
       "3     a-s00339192  adult      U               1               2     Ret   \n",
       "6     a-s00339311    old      M               1               4     Acq   \n",
       "9     a-s00339504  adult      M               1               1     Acq   \n",
       "15    a-s00339778  adult      M               1               3     Ret   \n",
       "16    a-s00338991    old      U               0               1     Acq   \n",
       "17    a-s00339062  adult      U               1               2     Acq   \n",
       "18    a-s00339114  adult      M               1               2     Acq   \n",
       "\n",
       "    revenue_usd             sku_category  revenue_category  \n",
       "0           179               Pro-BuyNow                 3  \n",
       "1             0  Pro-FreeTrial-NoConvert                 0  \n",
       "2            52                Essential                 2  \n",
       "3           179               Pro-BuyNow                 3  \n",
       "6           181               Pro-BuyNow                 3  \n",
       "9             0  Pro-FreeTrial-NoConvert                 0  \n",
       "15          179               Pro-BuyNow                 3  \n",
       "16          179               Pro-BuyNow                 3  \n",
       "17          178    Pro-FreeTrial-Convert                 3  \n",
       "18          179               Pro-BuyNow                 3  "
      ]
     },
     "execution_count": 54,
     "metadata": {},
     "output_type": "execute_result"
    }
   ],
   "source": [
    "# 根据发散性和关联性的结果，对愿特征进行处理\n",
    "# 合并tickets、shop、fantasy、new_to_database、email_opt_in，以提高相关性\n",
    "# 如果可以的话应该加上权重\n",
    "# uk_data.sku.unique()\n",
    "\n",
    "uk_data['user_behaviour'] = uk_data['tickets'] + uk_data['shop'] + uk_data['fantasy'] + uk_data['new_to_database'] + uk_data['email_opt_in']    \n",
    "\n",
    "# age_group 分成老中青 0-21 22-40 40+\n",
    "uk_data['age'] = np.where((uk_data['age_group']=='Under 18') | (uk_data['age_group']=='18-21'), 'young', \n",
    "                          np.where((uk_data['age_group']=='22-25') | (uk_data['age_group']=='26-30') | (uk_data['age_group']=='31-35') | (uk_data['age_group']=='36-40'), 'adult',\n",
    "                                  'old'))\n",
    "\n",
    "# sku, buy_ype & converted_free_trial 是属于购买行为了，应该归在target_variable中\n",
    "uk_data['sku_category'] = np.where((uk_data['sku']=='Pro') & (uk_data['buy_type']== 1), 'Pro-BuyNow', \n",
    "                          np.where((uk_data['sku']=='Pro') & (uk_data['buy_type']== 0) & (uk_data['converted_free_trial']== 0), 'Pro-FreeTrial-NoConvert',\n",
    "                                   np.where((uk_data['sku']=='Pro') & (uk_data['buy_type']== 0) & (uk_data['converted_free_trial']== 1), 'Pro-FreeTrial-Convert',\n",
    "                                            uk_data['sku'])))\n",
    "uk_data = uk_data.drop(['tickets', 'shop', 'fantasy', 'new_to_database', 'email_opt_in', \n",
    "                          'sku', 'buy_type', 'converted_free_trial', 'age_group', 'standardize_revenue_usd'], axis=1)\n",
    "\n",
    "uk_data = uk_data[['transaction_id', 'age','gender', 'favourite_team', 'user_behaviour', 'segment', 'revenue_usd', 'sku_category', 'revenue_category']]\n",
    "uk_data.head(10)"
   ]
  },
  {
   "cell_type": "code",
   "execution_count": 55,
   "metadata": {},
   "outputs": [],
   "source": [
    "# 哑编码，以适应某些模型不接受categorical data\n",
    "dummy_data = pd.get_dummies(\n",
    "        uk_data,columns=['age', 'gender', 'segment'],\n",
    "                prefix=['age', 'gender', 'segment'],prefix_sep=\"_\"\n",
    "            )\n"
   ]
  },
  {
   "cell_type": "code",
   "execution_count": 56,
   "metadata": {},
   "outputs": [
    {
     "data": {
      "text/html": [
       "<div>\n",
       "<style scoped>\n",
       "    .dataframe tbody tr th:only-of-type {\n",
       "        vertical-align: middle;\n",
       "    }\n",
       "\n",
       "    .dataframe tbody tr th {\n",
       "        vertical-align: top;\n",
       "    }\n",
       "\n",
       "    .dataframe thead th {\n",
       "        text-align: right;\n",
       "    }\n",
       "</style>\n",
       "<table border=\"1\" class=\"dataframe\">\n",
       "  <thead>\n",
       "    <tr style=\"text-align: right;\">\n",
       "      <th></th>\n",
       "      <th>transaction_id</th>\n",
       "      <th>favourite_team</th>\n",
       "      <th>user_behaviour</th>\n",
       "      <th>revenue_usd</th>\n",
       "      <th>sku_category</th>\n",
       "      <th>revenue_category</th>\n",
       "      <th>age_adult</th>\n",
       "      <th>age_old</th>\n",
       "      <th>age_young</th>\n",
       "      <th>gender_F</th>\n",
       "      <th>gender_M</th>\n",
       "      <th>gender_U</th>\n",
       "      <th>segment_Acq</th>\n",
       "      <th>segment_Ret</th>\n",
       "      <th>segment_iOS</th>\n",
       "    </tr>\n",
       "  </thead>\n",
       "  <tbody>\n",
       "    <tr>\n",
       "      <th>0</th>\n",
       "      <td>a-s00338989</td>\n",
       "      <td>1</td>\n",
       "      <td>2</td>\n",
       "      <td>179</td>\n",
       "      <td>Pro-BuyNow</td>\n",
       "      <td>3</td>\n",
       "      <td>1</td>\n",
       "      <td>0</td>\n",
       "      <td>0</td>\n",
       "      <td>0</td>\n",
       "      <td>0</td>\n",
       "      <td>1</td>\n",
       "      <td>1</td>\n",
       "      <td>0</td>\n",
       "      <td>0</td>\n",
       "    </tr>\n",
       "    <tr>\n",
       "      <th>1</th>\n",
       "      <td>a-s00339056</td>\n",
       "      <td>1</td>\n",
       "      <td>1</td>\n",
       "      <td>0</td>\n",
       "      <td>Pro-FreeTrial-NoConvert</td>\n",
       "      <td>0</td>\n",
       "      <td>1</td>\n",
       "      <td>0</td>\n",
       "      <td>0</td>\n",
       "      <td>0</td>\n",
       "      <td>1</td>\n",
       "      <td>0</td>\n",
       "      <td>1</td>\n",
       "      <td>0</td>\n",
       "      <td>0</td>\n",
       "    </tr>\n",
       "    <tr>\n",
       "      <th>2</th>\n",
       "      <td>a-s00339109</td>\n",
       "      <td>1</td>\n",
       "      <td>1</td>\n",
       "      <td>52</td>\n",
       "      <td>Essential</td>\n",
       "      <td>2</td>\n",
       "      <td>1</td>\n",
       "      <td>0</td>\n",
       "      <td>0</td>\n",
       "      <td>0</td>\n",
       "      <td>1</td>\n",
       "      <td>0</td>\n",
       "      <td>1</td>\n",
       "      <td>0</td>\n",
       "      <td>0</td>\n",
       "    </tr>\n",
       "    <tr>\n",
       "      <th>3</th>\n",
       "      <td>a-s00339192</td>\n",
       "      <td>1</td>\n",
       "      <td>2</td>\n",
       "      <td>179</td>\n",
       "      <td>Pro-BuyNow</td>\n",
       "      <td>3</td>\n",
       "      <td>1</td>\n",
       "      <td>0</td>\n",
       "      <td>0</td>\n",
       "      <td>0</td>\n",
       "      <td>0</td>\n",
       "      <td>1</td>\n",
       "      <td>0</td>\n",
       "      <td>1</td>\n",
       "      <td>0</td>\n",
       "    </tr>\n",
       "    <tr>\n",
       "      <th>6</th>\n",
       "      <td>a-s00339311</td>\n",
       "      <td>1</td>\n",
       "      <td>4</td>\n",
       "      <td>181</td>\n",
       "      <td>Pro-BuyNow</td>\n",
       "      <td>3</td>\n",
       "      <td>0</td>\n",
       "      <td>1</td>\n",
       "      <td>0</td>\n",
       "      <td>0</td>\n",
       "      <td>1</td>\n",
       "      <td>0</td>\n",
       "      <td>1</td>\n",
       "      <td>0</td>\n",
       "      <td>0</td>\n",
       "    </tr>\n",
       "  </tbody>\n",
       "</table>\n",
       "</div>"
      ],
      "text/plain": [
       "  transaction_id  favourite_team  user_behaviour  revenue_usd  \\\n",
       "0    a-s00338989               1               2          179   \n",
       "1    a-s00339056               1               1            0   \n",
       "2    a-s00339109               1               1           52   \n",
       "3    a-s00339192               1               2          179   \n",
       "6    a-s00339311               1               4          181   \n",
       "\n",
       "              sku_category  revenue_category  age_adult  age_old  age_young  \\\n",
       "0               Pro-BuyNow                 3          1        0          0   \n",
       "1  Pro-FreeTrial-NoConvert                 0          1        0          0   \n",
       "2                Essential                 2          1        0          0   \n",
       "3               Pro-BuyNow                 3          1        0          0   \n",
       "6               Pro-BuyNow                 3          0        1          0   \n",
       "\n",
       "   gender_F  gender_M  gender_U  segment_Acq  segment_Ret  segment_iOS  \n",
       "0         0         0         1            1            0            0  \n",
       "1         0         1         0            1            0            0  \n",
       "2         0         1         0            1            0            0  \n",
       "3         0         0         1            0            1            0  \n",
       "6         0         1         0            1            0            0  "
      ]
     },
     "execution_count": 56,
     "metadata": {},
     "output_type": "execute_result"
    }
   ],
   "source": [
    "dummy_data.head()"
   ]
  },
  {
   "cell_type": "code",
   "execution_count": 57,
   "metadata": {},
   "outputs": [
    {
     "data": {
      "text/html": [
       "<div>\n",
       "<style scoped>\n",
       "    .dataframe tbody tr th:only-of-type {\n",
       "        vertical-align: middle;\n",
       "    }\n",
       "\n",
       "    .dataframe tbody tr th {\n",
       "        vertical-align: top;\n",
       "    }\n",
       "\n",
       "    .dataframe thead th {\n",
       "        text-align: right;\n",
       "    }\n",
       "</style>\n",
       "<table border=\"1\" class=\"dataframe\">\n",
       "  <thead>\n",
       "    <tr style=\"text-align: right;\">\n",
       "      <th></th>\n",
       "      <th>transaction_id</th>\n",
       "      <th>favourite_team</th>\n",
       "      <th>user_behaviour</th>\n",
       "      <th>revenue_usd</th>\n",
       "      <th>sku_category</th>\n",
       "      <th>revenue_category</th>\n",
       "      <th>age_adult</th>\n",
       "      <th>age_old</th>\n",
       "      <th>age_young</th>\n",
       "      <th>gender_F</th>\n",
       "      <th>gender_M</th>\n",
       "      <th>gender_U</th>\n",
       "      <th>segment_Acq</th>\n",
       "      <th>segment_Ret</th>\n",
       "      <th>segment_iOS</th>\n",
       "      <th>age</th>\n",
       "      <th>gender</th>\n",
       "      <th>segment</th>\n",
       "    </tr>\n",
       "  </thead>\n",
       "  <tbody>\n",
       "    <tr>\n",
       "      <th>0</th>\n",
       "      <td>a-s00338989</td>\n",
       "      <td>1</td>\n",
       "      <td>2</td>\n",
       "      <td>179</td>\n",
       "      <td>Pro-BuyNow</td>\n",
       "      <td>3</td>\n",
       "      <td>1</td>\n",
       "      <td>0</td>\n",
       "      <td>0</td>\n",
       "      <td>0</td>\n",
       "      <td>0</td>\n",
       "      <td>1</td>\n",
       "      <td>1</td>\n",
       "      <td>0</td>\n",
       "      <td>0</td>\n",
       "      <td>adult</td>\n",
       "      <td>U</td>\n",
       "      <td>Acq</td>\n",
       "    </tr>\n",
       "    <tr>\n",
       "      <th>1</th>\n",
       "      <td>a-s00339056</td>\n",
       "      <td>1</td>\n",
       "      <td>1</td>\n",
       "      <td>0</td>\n",
       "      <td>Pro-FreeTrial-NoConvert</td>\n",
       "      <td>0</td>\n",
       "      <td>1</td>\n",
       "      <td>0</td>\n",
       "      <td>0</td>\n",
       "      <td>0</td>\n",
       "      <td>1</td>\n",
       "      <td>0</td>\n",
       "      <td>1</td>\n",
       "      <td>0</td>\n",
       "      <td>0</td>\n",
       "      <td>adult</td>\n",
       "      <td>M</td>\n",
       "      <td>Acq</td>\n",
       "    </tr>\n",
       "    <tr>\n",
       "      <th>2</th>\n",
       "      <td>a-s00339109</td>\n",
       "      <td>1</td>\n",
       "      <td>1</td>\n",
       "      <td>52</td>\n",
       "      <td>Essential</td>\n",
       "      <td>2</td>\n",
       "      <td>1</td>\n",
       "      <td>0</td>\n",
       "      <td>0</td>\n",
       "      <td>0</td>\n",
       "      <td>1</td>\n",
       "      <td>0</td>\n",
       "      <td>1</td>\n",
       "      <td>0</td>\n",
       "      <td>0</td>\n",
       "      <td>adult</td>\n",
       "      <td>M</td>\n",
       "      <td>Acq</td>\n",
       "    </tr>\n",
       "    <tr>\n",
       "      <th>3</th>\n",
       "      <td>a-s00339192</td>\n",
       "      <td>1</td>\n",
       "      <td>2</td>\n",
       "      <td>179</td>\n",
       "      <td>Pro-BuyNow</td>\n",
       "      <td>3</td>\n",
       "      <td>1</td>\n",
       "      <td>0</td>\n",
       "      <td>0</td>\n",
       "      <td>0</td>\n",
       "      <td>0</td>\n",
       "      <td>1</td>\n",
       "      <td>0</td>\n",
       "      <td>1</td>\n",
       "      <td>0</td>\n",
       "      <td>adult</td>\n",
       "      <td>U</td>\n",
       "      <td>Ret</td>\n",
       "    </tr>\n",
       "    <tr>\n",
       "      <th>4</th>\n",
       "      <td>a-s00339311</td>\n",
       "      <td>1</td>\n",
       "      <td>4</td>\n",
       "      <td>181</td>\n",
       "      <td>Pro-BuyNow</td>\n",
       "      <td>3</td>\n",
       "      <td>0</td>\n",
       "      <td>1</td>\n",
       "      <td>0</td>\n",
       "      <td>0</td>\n",
       "      <td>1</td>\n",
       "      <td>0</td>\n",
       "      <td>1</td>\n",
       "      <td>0</td>\n",
       "      <td>0</td>\n",
       "      <td>old</td>\n",
       "      <td>M</td>\n",
       "      <td>Acq</td>\n",
       "    </tr>\n",
       "  </tbody>\n",
       "</table>\n",
       "</div>"
      ],
      "text/plain": [
       "  transaction_id  favourite_team  user_behaviour  revenue_usd  \\\n",
       "0    a-s00338989               1               2          179   \n",
       "1    a-s00339056               1               1            0   \n",
       "2    a-s00339109               1               1           52   \n",
       "3    a-s00339192               1               2          179   \n",
       "4    a-s00339311               1               4          181   \n",
       "\n",
       "              sku_category  revenue_category  age_adult  age_old  age_young  \\\n",
       "0               Pro-BuyNow                 3          1        0          0   \n",
       "1  Pro-FreeTrial-NoConvert                 0          1        0          0   \n",
       "2                Essential                 2          1        0          0   \n",
       "3               Pro-BuyNow                 3          1        0          0   \n",
       "4               Pro-BuyNow                 3          0        1          0   \n",
       "\n",
       "   gender_F  gender_M  gender_U  segment_Acq  segment_Ret  segment_iOS    age  \\\n",
       "0         0         0         1            1            0            0  adult   \n",
       "1         0         1         0            1            0            0  adult   \n",
       "2         0         1         0            1            0            0  adult   \n",
       "3         0         0         1            0            1            0  adult   \n",
       "4         0         1         0            1            0            0    old   \n",
       "\n",
       "  gender segment  \n",
       "0      U     Acq  \n",
       "1      M     Acq  \n",
       "2      M     Acq  \n",
       "3      U     Ret  \n",
       "4      M     Acq  "
      ]
     },
     "execution_count": 57,
     "metadata": {},
     "output_type": "execute_result"
    }
   ],
   "source": [
    "# 将哑编码与原数据结合\n",
    "feature_data = pd.merge(dummy_data, uk_data[['transaction_id', 'age', 'gender', 'segment']], on='transaction_id', how='inner')\n",
    "feature_data.head()\n"
   ]
  },
  {
   "cell_type": "code",
   "execution_count": 58,
   "metadata": {},
   "outputs": [
    {
     "data": {
      "text/plain": [
       "'\\nfeature_data[\\'transaction_count\\'] = 1\\npd.pivot_table(feature_data,\\n               columns=[\"age\"],\\n               index = [\\'favourite_team\\'],\\n               values=[\\'revenue_usd\\', \\'transaction_count\\'],\\n               aggfunc=[np.mean,np.sum])\\n'"
      ]
     },
     "execution_count": 58,
     "metadata": {},
     "output_type": "execute_result"
    }
   ],
   "source": [
    "# 透视表\n",
    "\n",
    "\"\"\"\n",
    "feature_data['transaction_count'] = 1\n",
    "pd.pivot_table(feature_data,\n",
    "               columns=[\"age\"],\n",
    "               index = ['favourite_team'],\n",
    "               values=['revenue_usd', 'transaction_count'],\n",
    "               aggfunc=[np.mean,np.sum])\n",
    "\"\"\""
   ]
  },
  {
   "cell_type": "code",
   "execution_count": 59,
   "metadata": {},
   "outputs": [
    {
     "data": {
      "text/plain": [
       "\"\\nvariables = ['favourite_team', 'user_behaviour', 'revenue_usd', 'age_adult', 'age_old', 'age_young',\\n       'gender_F', 'gender_M', 'segment_Acq', 'segment_Ret', 'segment_iOS']\\n\\nsns.set()\\nsns.pairplot(feature_data[variables], size = 2.5)\\nplt.show()\\n\""
      ]
     },
     "execution_count": 59,
     "metadata": {},
     "output_type": "execute_result"
    }
   ],
   "source": [
    "# 相关性可视化\n",
    "\n",
    "\"\"\"\n",
    "variables = ['favourite_team', 'user_behaviour', 'revenue_usd', 'age_adult', 'age_old', 'age_young',\n",
    "       'gender_F', 'gender_M', 'segment_Acq', 'segment_Ret', 'segment_iOS']\n",
    "\n",
    "sns.set()\n",
    "sns.pairplot(feature_data[variables], size = 2.5)\n",
    "plt.show()\n",
    "\"\"\""
   ]
  },
  {
   "cell_type": "code",
   "execution_count": 60,
   "metadata": {},
   "outputs": [
    {
     "data": {
      "text/plain": [
       "'\\n\\nx = feature_data[[\\'favourite_team\\', \\'user_behaviour\\', \\'age_adult\\', \\'age_old\\', \\'age_young\\',\\n       \\'gender_F\\', \\'gender_M\\', \\'segment_Acq\\', \\'segment_Ret\\', \\'segment_iOS\\']]\\n\\nfrom statsmodels.stats.outliers_influence import variance_inflation_factor\\n\\nvif = pd.DataFrame()\\nvif[\"VIF Factor\"] = [variance_inflation_factor(x.values, i) for i in range(x.shape[1])]\\nvif[\"features\"] = x.columns\\n\\nvif.round(1)\\n'"
      ]
     },
     "execution_count": 60,
     "metadata": {},
     "output_type": "execute_result"
    }
   ],
   "source": [
    "# 多重共线性检验\n",
    "\n",
    "\"\"\"\n",
    "\n",
    "x = feature_data[['favourite_team', 'user_behaviour', 'age_adult', 'age_old', 'age_young',\n",
    "       'gender_F', 'gender_M', 'segment_Acq', 'segment_Ret', 'segment_iOS']]\n",
    "\n",
    "from statsmodels.stats.outliers_influence import variance_inflation_factor\n",
    "\n",
    "vif = pd.DataFrame()\n",
    "vif[\"VIF Factor\"] = [variance_inflation_factor(x.values, i) for i in range(x.shape[1])]\n",
    "vif[\"features\"] = x.columns\n",
    "\n",
    "vif.round(1)\n",
    "\"\"\""
   ]
  },
  {
   "cell_type": "code",
   "execution_count": 61,
   "metadata": {},
   "outputs": [],
   "source": [
    "feature_data.to_csv(r'/Users/apple/Downloads/nfl/feature_data.csv', index=True)"
   ]
  },
  {
   "cell_type": "markdown",
   "metadata": {},
   "source": [
    "#### 3.2 算法试验"
   ]
  },
  {
   "cell_type": "code",
   "execution_count": 62,
   "metadata": {},
   "outputs": [
    {
     "data": {
      "text/plain": [
       "Index(['transaction_id', 'favourite_team', 'user_behaviour', 'revenue_usd',\n",
       "       'sku_category', 'revenue_category', 'age_adult', 'age_old', 'age_young',\n",
       "       'gender_F', 'gender_M', 'gender_U', 'segment_Acq', 'segment_Ret',\n",
       "       'segment_iOS', 'age', 'gender', 'segment'],\n",
       "      dtype='object')"
      ]
     },
     "execution_count": 62,
     "metadata": {},
     "output_type": "execute_result"
    }
   ],
   "source": [
    "feature_data.columns"
   ]
  },
  {
   "cell_type": "code",
   "execution_count": 63,
   "metadata": {},
   "outputs": [
    {
     "name": "stdout",
     "output_type": "stream",
     "text": [
      "the number of data for training:\n",
      "revenue_usd    17139\n",
      "dtype: int64\n",
      "the number of data for validation:\n",
      "revenue_usd    4285\n",
      "dtype: int64\n"
     ]
    }
   ],
   "source": [
    "# 检验方法-train-validation\n",
    "from sklearn.model_selection import train_test_split\n",
    "\n",
    "x = feature_data[['favourite_team', 'user_behaviour', 'age_adult', 'age_old', 'age_young',\n",
    "                   'gender_F', 'gender_M', 'segment_Acq', 'segment_Ret', 'segment_iOS']]\n",
    "y1 = feature_data[['revenue_usd']] #regression\n",
    "y2 = feature_data[['revenue_category']] #classification\n",
    "\n",
    "\n",
    "x_train1, x_val1, y_train1, y_val1 = train_test_split(x, y1, test_size=0.2, random_state=1)\n",
    "x_train2, x_val2, y_train2, y_val2 = train_test_split(x, y2, test_size=0.2, random_state=1)\n",
    "\n",
    "print(\"the number of data for training:\")\n",
    "print(y_train1.count())\n",
    "print(\"the number of data for validation:\")\n",
    "print(y_val1.count())\n"
   ]
  },
  {
   "cell_type": "code",
   "execution_count": 74,
   "metadata": {},
   "outputs": [
    {
     "data": {
      "text/plain": [
       "\"\\nfrom sklearn import metrics\\n\\ndef confusion_matrix(model, x, y):\\n    model_confusion_test = metrics.confusion_matrix(y, model.predict(x))\\n    matrix = pd.DataFrame(data = model_confusion_test, columns = ['Predicted 0', 'Predicted 1', 'Predicted 2', 'Predicted 3'],\\n                 index = ['Predicted 0', 'Predicted 1', 'Predicted 2', 'Predicted 3'])\\n    return matrix\\n\""
      ]
     },
     "execution_count": 74,
     "metadata": {},
     "output_type": "execute_result"
    }
   ],
   "source": [
    "#衡量方法-accuracy与RMSE\n",
    "\n",
    "from sklearn.metrics import mean_squared_error\n",
    "\n",
    "def rmse_model(model, x, y):\n",
    "    predictions = model.predict(x)\n",
    "    rmse = np.sqrt(mean_squared_error(predictions, y))\n",
    "    return rmse\n",
    "\n",
    "\n",
    "\"\"\"\n",
    "from sklearn import metrics\n",
    "\n",
    "def confusion_matrix(model, x, y):\n",
    "    model_confusion_test = metrics.confusion_matrix(y, model.predict(x))\n",
    "    matrix = pd.DataFrame(data = model_confusion_test, columns = ['Predicted 0', 'Predicted 1', 'Predicted 2', 'Predicted 3'],\n",
    "                 index = ['Predicted 0', 'Predicted 1', 'Predicted 2', 'Predicted 3'])\n",
    "    return matrix\n",
    "\"\"\""
   ]
  },
  {
   "cell_type": "code",
   "execution_count": 65,
   "metadata": {},
   "outputs": [
    {
     "data": {
      "text/plain": [
       "'\\nfrom sklearn.linear_model import LinearRegression\\n\\nlinear_regression = LinearRegression()\\nlinear_regression.fit(x_train1, y_train1)\\n\\nprint(rmse_model(linear_regression, x_val1, y_val1))\\n'"
      ]
     },
     "execution_count": 65,
     "metadata": {},
     "output_type": "execute_result"
    }
   ],
   "source": [
    "# regression\n",
    "# 由于运算量和时间问题，就只放上代码了\n",
    "\n",
    "\"\"\"\n",
    "from sklearn.linear_model import LinearRegression\n",
    "\n",
    "linear_regression = LinearRegression()\n",
    "linear_regression.fit(x_train1, y_train1)\n",
    "\n",
    "print(rmse_model(linear_regression, x_val1, y_val1))\n",
    "\"\"\""
   ]
  },
  {
   "cell_type": "code",
   "execution_count": 66,
   "metadata": {},
   "outputs": [
    {
     "data": {
      "text/plain": [
       "\"\\nfrom sklearn.preprocessing import PolynomialFeatures\\n\\ntrain_rmses = []\\nval_rmses = []\\ndegrees = range(1,8)\\n\\nfor i in degrees:\\n    \\n    poly = PolynomialFeatures(degree=i, include_bias=False)\\n    x_train_poly = poly.fit_transform(x_train1)\\n\\n    poly_reg = LinearRegression()\\n    poly_reg.fit(x_train_poly, y_train1)\\n    \\n    # training RMSE\\n    y_train_pred = poly_reg.predict(x_train_poly)\\n    train_poly_rmse = np.sqrt(mean_squared_error(y_train1, y_train_pred))\\n    \\n    train_rmses.append(train_poly_rmse)\\n    \\n    # validation RMSE\\n    x_val_poly = poly.fit_transform(x_val1)\\n    y_val_pred = poly_reg.predict(x_val_poly)\\n    \\n    val_poly_rmse = np.sqrt(mean_squared_error(y_val1, y_val_pred))\\n    val_rmses.append(val_poly_rmse)\\n\\n    print('degree = %s, training RMSE = %.2f, validation RMSE = %.2f' % (i, train_poly_rmse, val_poly_rmse))\\n        \\nfig = plt.figure()\\nax = fig.add_subplot(111)\\nax.plot(degrees, train_rmses,label= 'training set')\\nax.plot(degrees, val_rmses,label= 'validation set')\\nax.set_yscale('log')\\nax.set_xlabel('Degree')\\nax.set_ylabel('RMSE')\\nax.set_title('Bias/Variance Trade-off')  \\nplt.legend()\\nplt.show()\\n\""
      ]
     },
     "execution_count": 66,
     "metadata": {},
     "output_type": "execute_result"
    }
   ],
   "source": [
    "# bias-variance trade-off\n",
    "\n",
    "\"\"\"\n",
    "from sklearn.preprocessing import PolynomialFeatures\n",
    "\n",
    "train_rmses = []\n",
    "val_rmses = []\n",
    "degrees = range(1,8)\n",
    "\n",
    "for i in degrees:\n",
    "    \n",
    "    poly = PolynomialFeatures(degree=i, include_bias=False)\n",
    "    x_train_poly = poly.fit_transform(x_train1)\n",
    "\n",
    "    poly_reg = LinearRegression()\n",
    "    poly_reg.fit(x_train_poly, y_train1)\n",
    "    \n",
    "    # training RMSE\n",
    "    y_train_pred = poly_reg.predict(x_train_poly)\n",
    "    train_poly_rmse = np.sqrt(mean_squared_error(y_train1, y_train_pred))\n",
    "    \n",
    "    train_rmses.append(train_poly_rmse)\n",
    "    \n",
    "    # validation RMSE\n",
    "    x_val_poly = poly.fit_transform(x_val1)\n",
    "    y_val_pred = poly_reg.predict(x_val_poly)\n",
    "    \n",
    "    val_poly_rmse = np.sqrt(mean_squared_error(y_val1, y_val_pred))\n",
    "    val_rmses.append(val_poly_rmse)\n",
    "\n",
    "    print('degree = %s, training RMSE = %.2f, validation RMSE = %.2f' % (i, train_poly_rmse, val_poly_rmse))\n",
    "        \n",
    "fig = plt.figure()\n",
    "ax = fig.add_subplot(111)\n",
    "ax.plot(degrees, train_rmses,label= 'training set')\n",
    "ax.plot(degrees, val_rmses,label= 'validation set')\n",
    "ax.set_yscale('log')\n",
    "ax.set_xlabel('Degree')\n",
    "ax.set_ylabel('RMSE')\n",
    "ax.set_title('Bias/Variance Trade-off')  \n",
    "plt.legend()\n",
    "plt.show()\n",
    "\"\"\"\n"
   ]
  },
  {
   "cell_type": "code",
   "execution_count": 67,
   "metadata": {},
   "outputs": [
    {
     "data": {
      "text/plain": [
       "'\\nfrom sklearn.linear_model import Ridge\\nfrom sklearn.pipeline import make_pipeline\\n\\nrmse=[]\\nalpha=[1, 2, 5, 10, 20, 30, 40, 50, 75, 100]\\n\\nfor a in alpha:\\n    ridge = make_pipeline(PolynomialFeatures(4), Ridge(alpha=a))\\n    ridge.fit(x_train1, y_train1)\\n    predict=ridge.predict(x_val1)\\n    rmse.append(np.sqrt(mean_squared_error(predict, y_val1)))\\nprint(rmse)\\nplt.scatter(alpha, rmse)\\n\\nalpha=np.arange(20, 60, 2)\\nrmse=[]\\nfor a in alpha:\\n    #ridge=Ridge(alpha=a, copy_X=True, fit_intercept=True)\\n    #ridge.fit(x_train1, y_train1)\\n    ridge = make_pipeline(PolynomialFeatures(4), Ridge(alpha=a))\\n    ridge.fit(x_train1, y_train1)\\n    predict=ridge.predict(x_val1)\\n    rmse.append(np.sqrt(mean_squared_error(predict, y_val1)))\\nprint(rmse)\\nplt.scatter(alpha, rmse)\\n\\nridge = make_pipeline(PolynomialFeatures(4), Ridge(alpha=24.6))\\nridge_model = ridge.fit(x_train1, y_train1)\\npredictions = ridge_model.predict(x_val1)\\nprint(\"Ridge RMSE is: \" + str(rmse_model(ridge_model, x_val1, y_val1)))\\n'"
      ]
     },
     "execution_count": 67,
     "metadata": {},
     "output_type": "execute_result"
    }
   ],
   "source": [
    "# regularization in order to reduce the effect of overfitting\n",
    "# ridge (lasso, elasticnet代码相似，lasso和elasticnet对RMSE压缩得更狠一些，不过不会去掉有collinearity的feature，ridge相反)\n",
    "\n",
    "\"\"\"\n",
    "from sklearn.linear_model import Ridge\n",
    "from sklearn.pipeline import make_pipeline\n",
    "\n",
    "rmse=[]\n",
    "alpha=[1, 2, 5, 10, 20, 30, 40, 50, 75, 100]\n",
    "\n",
    "for a in alpha:\n",
    "    ridge = make_pipeline(PolynomialFeatures(4), Ridge(alpha=a))\n",
    "    ridge.fit(x_train1, y_train1)\n",
    "    predict=ridge.predict(x_val1)\n",
    "    rmse.append(np.sqrt(mean_squared_error(predict, y_val1)))\n",
    "print(rmse)\n",
    "plt.scatter(alpha, rmse)\n",
    "\n",
    "alpha=np.arange(20, 60, 2)\n",
    "rmse=[]\n",
    "for a in alpha:\n",
    "    #ridge=Ridge(alpha=a, copy_X=True, fit_intercept=True)\n",
    "    #ridge.fit(x_train1, y_train1)\n",
    "    ridge = make_pipeline(PolynomialFeatures(4), Ridge(alpha=a))\n",
    "    ridge.fit(x_train1, y_train1)\n",
    "    predict=ridge.predict(x_val1)\n",
    "    rmse.append(np.sqrt(mean_squared_error(predict, y_val1)))\n",
    "print(rmse)\n",
    "plt.scatter(alpha, rmse)\n",
    "\n",
    "ridge = make_pipeline(PolynomialFeatures(4), Ridge(alpha=24.6))\n",
    "ridge_model = ridge.fit(x_train1, y_train1)\n",
    "predictions = ridge_model.predict(x_val1)\n",
    "print(\"Ridge RMSE is: \" + str(rmse_model(ridge_model, x_val1, y_val1)))\n",
    "\"\"\""
   ]
  },
  {
   "cell_type": "code",
   "execution_count": 68,
   "metadata": {},
   "outputs": [
    {
     "data": {
      "text/plain": [
       "[0, 2, 3, 1]"
      ]
     },
     "execution_count": 68,
     "metadata": {},
     "output_type": "execute_result"
    }
   ],
   "source": [
    "# classfication\n",
    "list(y_train2['revenue_category'].unique())"
   ]
  },
  {
   "cell_type": "code",
   "execution_count": 69,
   "metadata": {},
   "outputs": [
    {
     "name": "stdout",
     "output_type": "stream",
     "text": [
      "0.48124161269619\n",
      "0.4793465577596266\n"
     ]
    },
    {
     "data": {
      "text/plain": [
       "Text(0, 0.5, 'Accuracy')"
      ]
     },
     "execution_count": 69,
     "metadata": {},
     "output_type": "execute_result"
    },
    {
     "data": {
      "image/png": "[encoded data removed]",
      "text/plain": [
       "<Figure size 432x288 with 1 Axes>"
      ]
     },
     "metadata": {
      "needs_background": "light"
     },
     "output_type": "display_data"
    }
   ],
   "source": [
    "# decision tree\n",
    "\n",
    "from sklearn import tree\n",
    "from sklearn.tree import DecisionTreeClassifier\n",
    "\n",
    "decision_tree_model = DecisionTreeClassifier(criterion='entropy')\n",
    "decision_tree_model.fit(x_train2, y_train2)\n",
    "print(decision_tree_model.score(x_train2,y_train2))\n",
    "print(decision_tree_model.score(x_val2,y_val2))\n",
    "\n",
    "# tuning\n",
    "train_score = []\n",
    "val_score = []\n",
    "for depth in np.arange(1,20):\n",
    "    decision_tree = tree.DecisionTreeClassifier(max_depth = depth,min_samples_leaf = 5)\n",
    "    decision_tree.fit(x_train2, y_train2)\n",
    "    train_score.append(decision_tree.score(x_train2, y_train2))\n",
    "    val_score.append(decision_tree.score(x_val2, y_val2))\n",
    "\n",
    "plt.plot(np.arange(1,20),train_score)\n",
    "plt.plot(np.arange(1,20),val_score)\n",
    "plt.legend(['Training Accuracy','Validation Accuracy'])\n",
    "plt.title('Decision Tree Tuning')\n",
    "plt.xlabel('Depth')\n",
    "plt.ylabel('Accuracy')"
   ]
  },
  {
   "cell_type": "code",
   "execution_count": 70,
   "metadata": {},
   "outputs": [
    {
     "data": {
      "text/plain": [
       "Text(0, 0.5, 'Accuracy')"
      ]
     },
     "execution_count": 70,
     "metadata": {},
     "output_type": "execute_result"
    },
    {
     "data": {
      "image/png": "[encoded data removed]",
      "text/plain": [
       "<Figure size 432x288 with 1 Axes>"
      ]
     },
     "metadata": {
      "needs_background": "light"
     },
     "output_type": "display_data"
    }
   ],
   "source": [
    "train_score = []\n",
    "val_score = []\n",
    "for leaf in np.arange(20,100):\n",
    "    decision_tree = tree.DecisionTreeClassifier(max_depth = 10, min_samples_leaf = leaf)\n",
    "    decision_tree.fit(x_train2, y_train2)\n",
    "    train_score.append(decision_tree.score(x_train2, y_train2))\n",
    "    val_score.append(decision_tree.score(x_val2, y_val2))\n",
    "\n",
    "plt.plot(np.arange(20,100),train_score)\n",
    "plt.plot(np.arange(20,100),val_score)\n",
    "plt.legend(['Training Accuracy','Validation Accuracy'])\n",
    "plt.title('Decision Tree Tuning')\n",
    "plt.xlabel('Minimum Samples Leaf')\n",
    "plt.ylabel('Accuracy')"
   ]
  },
  {
   "cell_type": "code",
   "execution_count": 71,
   "metadata": {},
   "outputs": [
    {
     "name": "stdout",
     "output_type": "stream",
     "text": [
      "0.47785751794153686\n",
      "0.4849474912485414\n"
     ]
    }
   ],
   "source": [
    "my_decision_tree_model = DecisionTreeClassifier(max_depth = 10, min_samples_leaf = 20)\n",
    "my_decision_tree_model.fit(x_train2, y_train2)\n",
    "print(my_decision_tree_model.score(x_train2,y_train2))\n",
    "print(my_decision_tree_model.score(x_val2,y_val2))"
   ]
  },
  {
   "cell_type": "code",
   "execution_count": 75,
   "metadata": {},
   "outputs": [
    {
     "data": {
      "image/png": "[encoded data removed]",
      "text/plain": [
       "<Figure size 396x288 with 2 Axes>"
      ]
     },
     "metadata": {
      "needs_background": "light"
     },
     "output_type": "display_data"
    }
   ],
   "source": [
    "# confusion matrix\n",
    "from sklearn.metrics import accuracy_score, confusion_matrix, precision_recall_fscore_support\n",
    "\n",
    "\n",
    "y_predict = my_decision_tree_model.predict(x_val2)\n",
    "cm = confusion_matrix(y_val2, y_predict) \n",
    "\n",
    "# Transform to df for easier plotting\n",
    "cm_df = pd.DataFrame(cm,\n",
    "                     index = ['free', 'median', 'high', 'low'], \n",
    "                     columns = ['free', 'median', 'high', 'low'])\n",
    "\n",
    "plt.figure(figsize=(5.5,4))\n",
    "sns.heatmap(cm_df, annot=True)\n",
    "plt.title('Decision Tree \\nAccuracy:{0:.3f}'.format(accuracy_score(y_val2, y_predict)))\n",
    "plt.ylabel('True label')\n",
    "plt.xlabel('Predicted label')\n",
    "plt.show()"
   ]
  },
  {
   "cell_type": "code",
   "execution_count": 76,
   "metadata": {},
   "outputs": [
    {
     "data": {
      "image/png": "[encoded data removed]",
      "text/plain": [
       "<Figure size 432x288 with 1 Axes>"
      ]
     },
     "metadata": {
      "needs_background": "light"
     },
     "output_type": "display_data"
    }
   ],
   "source": [
    "# learning curve\n",
    "\n",
    "from sklearn.model_selection import learning_curve\n",
    "\n",
    "train_sizes, train_scores, val_scores = learning_curve(DecisionTreeClassifier(max_depth = 10, min_samples_leaf = 20), \n",
    "        x, \n",
    "        y2,\n",
    "        # Number of folds in cross-validation\n",
    "        cv=5,\n",
    "        # Evaluation metric\n",
    "        scoring='accuracy',\n",
    "        # Use all computer cores\n",
    "        n_jobs=-1, \n",
    "        # 50 different sizes of the training set\n",
    "        train_sizes=np.linspace(0.1, 1.0, 5))\n",
    "\n",
    "# Create means and standard deviations of training set scores\n",
    "train_mean = np.mean(train_scores, axis=1)\n",
    "train_std = np.std(train_scores, axis=1)\n",
    "\n",
    "# Create means and standard deviations of validation set scores\n",
    "val_mean = np.mean(val_scores, axis=1)\n",
    "val_std = np.std(val_scores, axis=1)\n",
    "\n",
    "# Draw lines\n",
    "plt.plot(train_sizes, train_mean, '--', color=\"#ff8040\",  label=\"Training score\")\n",
    "plt.plot(train_sizes, val_mean, color=\"#40bfff\", label=\"Cross-validation score\")\n",
    "\n",
    "# Draw bands\n",
    "plt.fill_between(train_sizes, train_mean - train_std, train_mean + train_std, color=\"#DDDDDD\")\n",
    "plt.fill_between(train_sizes, val_mean - val_std, val_mean + val_std, color=\"#DDDDDD\")\n",
    "\n",
    "# Create plot\n",
    "plt.title(\"Learning Curve \\n k-fold=5, number of neighbours=5\")\n",
    "plt.xlabel(\"Training Set Size\"), plt.ylabel(\"Accuracy Score\"), plt.legend(loc=\"best\")\n",
    "plt.tight_layout()\n",
    "plt.show()"
   ]
  },
  {
   "cell_type": "code",
   "execution_count": 78,
   "metadata": {},
   "outputs": [],
   "source": [
    "# Curse of Dimensionality\n",
    "\n",
    "d_train = []\n",
    "d_val = []\n",
    "\n",
    "for i in range(1,9):\n",
    "    \n",
    "    X_train_index = x_train2.iloc[: , 0:i]\n",
    "    X_val_index = x_val2.iloc[: , 0:i]\n",
    "    \n",
    "    classifier = DecisionTreeClassifier(max_depth = 10, min_samples_leaf = 20)\n",
    "    dt_model = classifier.fit(X_train_index, y_train2.values.ravel())\n",
    "\n",
    "    d_train.append(dt_model.score(X_train_index, y_train2))\n",
    "    d_val.append(dt_model.score(X_val_index, y_val2))"
   ]
  },
  {
   "cell_type": "code",
   "execution_count": 79,
   "metadata": {},
   "outputs": [
    {
     "data": {
      "image/png": "[encoded data removed]",
      "text/plain": [
       "<Figure size 432x288 with 1 Axes>"
      ]
     },
     "metadata": {
      "needs_background": "light"
     },
     "output_type": "display_data"
    }
   ],
   "source": [
    "plt.title('Decision Tree Curse of Dimensionality')\n",
    "plt.plot(range(1,9),d_val,label=\"Validation\")\n",
    "plt.plot(range(1,9),d_train,label=\"Train\")\n",
    "plt.xlabel('Number of Features')\n",
    "plt.ylabel('Score (Accuracy)')\n",
    "plt.legend()\n",
    "plt.xticks(range(1,9))\n",
    "plt.show()"
   ]
  },
  {
   "cell_type": "code",
   "execution_count": null,
   "metadata": {},
   "outputs": [],
   "source": []
  }
 ],
 "metadata": {
  "kernelspec": {
   "display_name": "Python 3",
   "language": "python",
   "name": "python3"
  },
  "language_info": {
   "codemirror_mode": {
    "name": "ipython",
    "version": 3
   },
   "file_extension": ".py",
   "mimetype": "text/x-python",
   "name": "python",
   "nbconvert_exporter": "python",
   "pygments_lexer": "ipython3",
   "version": "3.7.3"
  },
  "toc": {
   "base_numbering": 1,
   "nav_menu": {},
   "number_sections": false,
   "sideBar": true,
   "skip_h1_title": false,
   "title_cell": "Table of Contents",
   "title_sidebar": "Contents",
   "toc_cell": true,
   "toc_position": {
    "height": "calc(100% - 180px)",
    "left": "10px",
    "top": "150px",
    "width": "165px"
   },
   "toc_section_display": true,
   "toc_window_display": true
  }
 },
 "nbformat": 4,
 "nbformat_minor": 2
}
