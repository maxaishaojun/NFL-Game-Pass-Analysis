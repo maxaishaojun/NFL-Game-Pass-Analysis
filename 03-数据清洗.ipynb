{
 "cells": [
  {
   "cell_type": "code",
   "execution_count": 2,
   "metadata": {},
   "outputs": [],
   "source": [
    "import pandas as pd\n",
    "import numpy as np\n"
   ]
  },
  {
   "cell_type": "code",
   "execution_count": 3,
   "metadata": {},
   "outputs": [
    {
     "name": "stderr",
     "output_type": "stream",
     "text": [
      "/anaconda3/lib/python3.7/site-packages/IPython/core/interactiveshell.py:3049: DtypeWarning: Columns (17) have mixed types. Specify dtype option on import or set low_memory=False.\n",
      "  interactivity=interactivity, compiler=compiler, result=result)\n"
     ]
    }
   ],
   "source": [
    "mp_file_path = '/Users/apple/Downloads/nfl/mediaperformance.csv'\n",
    "nfl_file_path = '/Users/apple/Downloads/nfl/nfladverts.csv'\n",
    "\n",
    "mp_data = pd.read_csv(mp_file_path)\n",
    "nfl_data = pd.read_csv(nfl_file_path)\n"
   ]
  },
  {
   "cell_type": "markdown",
   "metadata": {},
   "source": [
    "## 数据清洗"
   ]
  },
  {
   "cell_type": "code",
   "execution_count": 4,
   "metadata": {},
   "outputs": [],
   "source": [
    "# 重新命名列\n",
    "\n",
    "nfl_data.columns = ['transaction_id', 'customer_id', 'date', 'nflweek', 'platform', 'market',\n",
    "       'audience', 'segment', 'gender', 'age_group', 'tickets',\n",
    "       'shop', 'fantasy', 'new_to_database', 'email_opt_in',\n",
    "       'favourite_team', 'sku', 'buy_type', 'converted_free_trial',\n",
    "       'revenue_usd']\n",
    "\n",
    "# nfl_data['revenue_usd'].describe()\n",
    "# mp_data.columns"
   ]
  },
  {
   "cell_type": "markdown",
   "metadata": {},
   "source": [
    "### 重复值"
   ]
  },
  {
   "cell_type": "code",
   "execution_count": 5,
   "metadata": {},
   "outputs": [],
   "source": [
    "mp_unique = mp_data.groupby(['date', 'nflweek', 'numweek', 'platform', 'market', 'audience']).size().reset_index(name='Freq')\n",
    "mp_unique = mp_unique.sort_values(by=['Freq'], ascending=False)\n",
    "# print(mp_unique)\n",
    "\n",
    "nfl_data.head()\n",
    "nfl_unique = nfl_data.groupby(['transaction_id']).size().reset_index(name='Freq')\n",
    "nfl_unique = nfl_unique.sort_values(by=['Freq'], ascending=False)\n",
    "# print(nfl_unique)\n",
    "# data.drop_duplicates(subset =\"columns Name\", keep = False, inplace = True) \n"
   ]
  },
  {
   "cell_type": "markdown",
   "metadata": {},
   "source": [
    "### 缺失值"
   ]
  },
  {
   "cell_type": "code",
   "execution_count": 6,
   "metadata": {},
   "outputs": [],
   "source": [
    "mp_null_total = mp_data.isnull().sum(axis=0).sort_values(ascending=False)\n",
    "mp_null_percent = (mp_data.isnull().sum()/len(mp_data.index)).sort_values(ascending=False).round(3)\n",
    "mp_missing_data = pd.concat([mp_null_total, mp_null_percent], axis=1, keys=['Total', 'Percent'])\n",
    "\n",
    "nfl_null_total = nfl_data.isnull().sum(axis=0).sort_values(ascending=False)\n",
    "nfl_null_percent = (nfl_data.isnull().sum()/len(nfl_data.index)).sort_values(ascending=False).round(3)\n",
    "nfl_missing_data = pd.concat([nfl_null_total, nfl_null_percent], axis=1, keys=['Total', 'Percent'])\n",
    "\n",
    "\n",
    "# 去掉没有transaction_id的行\n",
    "nfl_data = nfl_data.dropna(subset=['transaction_id'])\n",
    "\n",
    "# 没有填喜好球队的编为‘No Team’\n",
    "nfl_data['favourite_team'] = nfl_data['favourite_team'].fillna('No Team')\n"
   ]
  },
  {
   "cell_type": "code",
   "execution_count": 7,
   "metadata": {},
   "outputs": [],
   "source": [
    "# 没填性别编为'U'\n",
    "nfl_data['gender'] = nfl_data['gender'].fillna('U')\n",
    "\n",
    "# 由于gender缺失太多，和其他列也没有存在明显的逻辑关系，尝试看有没有男女id差异，结果没有\n",
    "# https://pandas.pydata.org/pandas-docs/stable/reference/api/pandas.pivot_table.html\n",
    "gender_predict = nfl_data[nfl_data.gender.notnull()]\n",
    "gender_pivot = pd.pivot_table(gender_predict, values='customer_id', index=['gender'], aggfunc=np.mean)\n",
    "\n",
    "# 按照逻辑填充buy_type\n",
    "# nfl_data['buy_type'].unique()\n",
    "nfl_data['buy_type'] = nfl_data.apply(\n",
    "    lambda row: \n",
    "        'Buy Now' if row['sku'] =='Free' else \n",
    "            ('Buy Now' if (row['converted_free_trial'] == 0 and row['revenue_usd'] > 0) else \n",
    "                 ('Free Trial' if (row['converted_free_trial'] == 0 and row['revenue_usd'] == 0) or (row['converted_free_trial'] == 1 and row['revenue_usd'] > 0) else \n",
    "                      row['buy_type'])), axis=1)\n",
    "\n",
    "# nfl_data.isnull().sum(axis=0).sort_values(ascending=False)\n"
   ]
  },
  {
   "cell_type": "markdown",
   "metadata": {},
   "source": [
    "### 异常值"
   ]
  },
  {
   "cell_type": "code",
   "execution_count": 8,
   "metadata": {},
   "outputs": [],
   "source": [
    "# binary都变成0&1，去掉异常值\n",
    "# nfl_data['market'].unique()\n",
    "nfl_data['tickets'] = np.where(nfl_data['tickets'] == 'N', 0, 1)\n",
    "nfl_data['shop'] = np.where(nfl_data['shop'] == 'N', 0, 1)\n",
    "nfl_data['fantasy'] = np.where(nfl_data['fantasy'] == False, 0, 1)\n",
    "nfl_data['new_to_database'] = np.where(nfl_data['new_to_database'] == 'N', 0, 1)\n",
    "nfl_data['email_opt_in'] = np.where(nfl_data['email_opt_in'] == 'False', 0, np.where(nfl_data['email_opt_in'] == '0', 0, 1))\n",
    "nfl_data['buy_type'] = np.where(nfl_data['buy_type'] == 'Free Trial', 0, 1)                                   \n",
    "nfl_data['favourite_team'] = np.where(nfl_data['favourite_team'] == 'NFL', 'No Team', nfl_data['favourite_team'])\n",
    "nfl_data['favourite_team'] = np.where(nfl_data['favourite_team'] == 'No Team', 0, 1)\n"
   ]
  },
  {
   "cell_type": "code",
   "execution_count": 9,
   "metadata": {},
   "outputs": [],
   "source": [
    "# 纠正sku、buy_type、converted_free_trial的逻辑错误\n",
    "# https://stackoverflow.com/questions/36921951/truth-value-of-a-series-is-ambiguous-use-a-empty-a-bool-a-item-a-any-o\n",
    "# https://discuss.analyticsvidhya.com/t/how-to-resolve-python-error-cannot-compare-a-dtyped-int64-array-with-a-scalar-of-type-bool/73065\n",
    "nfl_data['sku'] = np.where((nfl_data['revenue_usd'] == 0) & (nfl_data['sku'] != 'Pro'), 'Free', nfl_data['sku'])\n",
    "nfl_data['sku'] = np.where((nfl_data['revenue_usd'] > 0) & (nfl_data['sku'] == 'Free'), 'Pro', nfl_data['sku'])\n",
    "nfl_data['buy_type'] = np.where((nfl_data['sku'] == 'Pro') & (nfl_data['revenue_usd'] == 0), 0, nfl_data['buy_type'])\n",
    "nfl_data['converted_free_trial'] = np.where((nfl_data['sku'] == 'Pro') & (nfl_data['buy_type'] == 0) & (nfl_data['revenue_usd'] > 0), 1, nfl_data['converted_free_trial'])\n",
    "nfl_data['converted_free_trial'] = np.where((nfl_data['sku'] == 'Pro') & (nfl_data['buy_type'] == 1) & (nfl_data['revenue_usd'] > 0), 0, nfl_data['converted_free_trial'])\n"
   ]
  },
  {
   "cell_type": "code",
   "execution_count": 10,
   "metadata": {},
   "outputs": [],
   "source": [
    "mp_data.to_excel(r'/Users/apple/Downloads/nfl/mp_data.xlsx', index=True)"
   ]
  },
  {
   "cell_type": "code",
   "execution_count": 11,
   "metadata": {},
   "outputs": [],
   "source": [
    "nfl_data.to_csv(r'/Users/apple/Downloads/nfl/nfl_data.csv', index=True)"
   ]
  },
  {
   "cell_type": "code",
   "execution_count": null,
   "metadata": {},
   "outputs": [],
   "source": []
  }
 ],
 "metadata": {
  "kernelspec": {
   "display_name": "Python 3",
   "language": "python",
   "name": "python3"
  },
  "language_info": {
   "codemirror_mode": {
    "name": "ipython",
    "version": 3
   },
   "file_extension": ".py",
   "mimetype": "text/x-python",
   "name": "python",
   "nbconvert_exporter": "python",
   "pygments_lexer": "ipython3",
   "version": "3.7.3"
  },
  "toc": {
   "base_numbering": 1,
   "nav_menu": {},
   "number_sections": false,
   "sideBar": true,
   "skip_h1_title": false,
   "title_cell": "Table of Contents",
   "title_sidebar": "Contents",
   "toc_cell": false,
   "toc_position": {
    "height": "calc(100% - 180px)",
    "left": "10px",
    "top": "150px",
    "width": "165px"
   },
   "toc_section_display": true,
   "toc_window_display": true
  }
 },
 "nbformat": 4,
 "nbformat_minor": 2
}
